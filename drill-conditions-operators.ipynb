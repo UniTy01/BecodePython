{
 "cells": [
  {
   "cell_type": "markdown",
   "metadata": {},
   "source": [
    "# Drill : Basics python syntax\n"
   ]
  },
  {
   "cell_type": "markdown",
   "metadata": {},
   "source": [
    "In some of these exercises, you will have to use methods that you have not seen yet. In this case, search on google for an example of use. Take the right habits to avoid being blocked"
   ]
  },
  {
   "cell_type": "markdown",
   "metadata": {},
   "source": [
    "Run all cells before starting the tests."
   ]
  },
  {
   "cell_type": "markdown",
   "metadata": {},
   "source": [
    "**1. Create a variable `age` that contains value 32**"
   ]
  },
  {
   "cell_type": "code",
   "execution_count": null,
   "metadata": {},
   "outputs": [],
   "source": [
    "age = 32"
   ]
  },
  {
   "cell_type": "markdown",
   "metadata": {},
   "source": [
    "**2. Add 10 to variable `age`**"
   ]
  },
  {
   "cell_type": "code",
   "execution_count": null,
   "metadata": {},
   "outputs": [],
   "source": [
    "age + 10"
   ]
  },
  {
   "cell_type": "markdown",
   "metadata": {},
   "source": [
    "**3. Create a variable `divAge` and assign it the value of the age divided by 7**  \n",
    "- ❗ Be careful, it must be an integer."
   ]
  },
  {
   "cell_type": "code",
   "execution_count": null,
   "metadata": {},
   "outputs": [],
   "source": [
    "divAge = age / 7"
   ]
  },
  {
   "cell_type": "markdown",
   "metadata": {},
   "source": [
    "**4. Create a variable `textDiv` that contains the character string \"42 divided by 7 equals 6\".**  \n",
    "- You must use the `age` and `divAge` variables"
   ]
  },
  {
   "cell_type": "code",
   "execution_count": null,
   "metadata": {},
   "outputs": [],
   "source": [
    "textDiv = age , \"divided by 7 equal\" , int(divAge)"
   ]
  },
  {
   "cell_type": "markdown",
   "metadata": {},
   "source": [
    "**5. Create a variable `restDiv` that contains the rest of the variable `age` divided by 7**"
   ]
  },
  {
   "cell_type": "code",
   "execution_count": null,
   "metadata": {},
   "outputs": [],
   "source": [
    "age = 23\n",
    "\n",
    "restDiv = age % 7\n",
    "\n",
    "print(\"Le reste de la division de l'âge par 7 est :\", restDiv)"
   ]
  },
  {
   "cell_type": "markdown",
   "metadata": {},
   "source": [
    "**6. Create a variable `expDiv` that contains the value of `restDiv` to the 3rd power**"
   ]
  },
  {
   "cell_type": "code",
   "execution_count": null,
   "metadata": {},
   "outputs": [],
   "source": [
    "\n",
    "restDiv = 2  \n",
    "\n",
    "expDiv = restDiv ** 3\n",
    "\n",
    "print(\"La valeur de restDiv à la puissance 3 est :\", expDiv)"
   ]
  },
  {
   "cell_type": "markdown",
   "metadata": {},
   "source": [
    "**7. Write a program that enters an integer and then displays the value entered and its type.**"
   ]
  },
  {
   "cell_type": "code",
   "execution_count": null,
   "metadata": {},
   "outputs": [],
   "source": [
    "user_input = input(\"Veuillez entrer un entier : \")\n",
    "\n",
    "\n",
    "try:\n",
    "    entier_saisi = int(user_input)\n",
    "    \n",
    "    print(f\"La valeur entrée est : {entier_saisi}\")\n",
    "    print(f\"Le type de la valeur est : {type(entier_saisi)}\")\n",
    "except ValueError:\n",
    "    print(\"Erreur : Veuillez entrer un entier valide.\")\n",
    "\n"
   ]
  },
  {
   "cell_type": "markdown",
   "metadata": {},
   "source": [
    "**8. Use variables to represent the price of materials.**  \n",
    "- 2 bottles of milk at €0.45 each\n",
    "- 3 bottles of raw cider at €3.85 each\n",
    "- 1 bag of flour at 0.9 €\n",
    "- 1 packet of butter at €0.77\n",
    "- 1 jar of nutella at €1.87  \n",
    "\n",
    "**Calculate the sum of all items and store it in a `orderPrice` variable**"
   ]
  },
  {
   "cell_type": "code",
   "execution_count": null,
   "metadata": {},
   "outputs": [],
   "source": [
    "prix_milk = 0.45\n",
    "prix_cider = 3.85\n",
    "prix_flour = 0.9\n",
    "prix_butter = 0.77\n",
    "prix_nutella = 1.87\n",
    "\n",
    "quantite_milk = 2\n",
    "quantite_cider = 3\n",
    "quantite_flour = 1\n",
    "quantite_butter = 1\n",
    "quantite_nutella = 1\n",
    "\n",
    "orderPrice = (quantite_milk * prix_milk) + (quantite_cider * prix_cider) + (quantite_flour * prix_flour) + (quantite_butter * prix_butter) + (quantite_nutella * prix_nutella)\n",
    "\n",
    "print(f\"Le prix total de la commande est : €{orderPrice:.2f}\")"
   ]
  },
  {
   "cell_type": "markdown",
   "metadata": {},
   "source": [
    "**Create a variable `allowanceMoney` which has a value of 20 and then create an algorithm that calculates the available money by subtracting the price of the order.**\n",
    "\n",
    "If there is enough money, record the following sentence in the variable `message` and subtract the expense from `allowanceMoney` : \n",
    "- message = \"You have spent\" + `orderPrice` + \"you have left\" + `allowanceMoney` \n",
    "\n",
    "If there is not enough money, record the following sentence in the `message` variable: \n",
    "- message= \"Sorry you're missing *amountMissing* euros\" \n",
    "\n",
    "If there is 0 left, record the following sentence in the `message` variable: \n",
    "- message = \"You are broke!\"\n"
   ]
  },
  {
   "cell_type": "code",
   "execution_count": null,
   "metadata": {},
   "outputs": [],
   "source": [
    "allowanceMoney = 20\n",
    "\n",
    "order_price = orderPrice\n",
    "remaining_money = allowanceMoney - order_price\n",
    "\n",
    "\n",
    "if remaining_money >= 0:\n",
    "    message = f\"You have spent {order_price:.2f}. You have {remaining_money:.2f} left.\"\n",
    "    allowanceMoney -= order_price  \n",
    "elif remaining_money < 0:\n",
    "    amount_missing = abs(remaining_money)\n",
    "    message = f\"Sorry, you're missing {amount_missing:.2f} euros.\"\n",
    "else:\n",
    "    message = \"You are broke!\"\n",
    "\n",
    "\n",
    "print(message)"
   ]
  },
  {
   "cell_type": "markdown",
   "metadata": {},
   "source": [
    "**9. Write a program that asks you to enter 2 values and displays the smallest of the 2 values**"
   ]
  },
  {
   "cell_type": "code",
   "execution_count": null,
   "metadata": {},
   "outputs": [],
   "source": [
    "valeur1 = float(input(\"Entrez la première valeur : \"))\n",
    "valeur2 = float(input(\"Entrez la deuxième valeur : \"))\n",
    "\n",
    "if valeur1 < valeur2:\n",
    "    print(f\"La plus petite valeur est : {valeur1}\")\n",
    "elif valeur2 < valeur1:\n",
    "    print(f\"La plus petite valeur est : {valeur2}\")\n",
    "else:\n",
    "    print(\"Les deux valeurs sont égales.\")"
   ]
  },
  {
   "cell_type": "markdown",
   "metadata": {},
   "source": [
    "**10. Write a script that asks you to enter 2 strings and displays the largest of the 2 strings (the one with the most characters).**"
   ]
  },
  {
   "cell_type": "code",
   "execution_count": null,
   "metadata": {},
   "outputs": [],
   "source": [
    "chaine1 = input(\"Entrez la première chaîne de caractères : \")\n",
    "chaine2 = input(\"Entrez la deuxième chaîne de caractères : \")\n",
    "\n",
    "if len(chaine1) > len(chaine2):\n",
    "    print(f\"La plus grande chaîne est : {chaine1}\")\n",
    "elif len(chaine2) > len(chaine1):\n",
    "    print(f\"La plus grande chaîne est : {chaine2}\")\n",
    "else:\n",
    "    print(\"Les deux chaînes ont la même longueur.\")"
   ]
  },
  {
   "cell_type": "markdown",
   "metadata": {},
   "source": [
    "**11. Write a script that converts euros into dollars.**\n",
    "- The program will start by asking the user to indicate with a character 'E' or '$' depending on the currency of the amount they are entering.\n",
    "- Then the program will ask you to enter the amount and display the conversion."
   ]
  },
  {
   "cell_type": "code",
   "execution_count": null,
   "metadata": {},
   "outputs": [],
   "source": [
    "choix_devise = input(\"Indiquez la devise (tapez 'E' pour Euros ou '$' pour Dollars) : \")\n",
    "\n",
    "\n",
    "if choix_devise == 'E':\n",
    "    montant_euros = float(input(\"Entrez le montant en Euros : \"))\n",
    "    taux_conversion = 1.18  # Exemple de taux \n",
    "    montant_dollars = montant_euros * taux_conversion\n",
    "    print(f\"{montant_euros:.2f} Euros équivalent à {montant_dollars:.2f} Dollars.\")\n",
    "elif choix_devise == '$':\n",
    "    montant_dollars = float(input(\"Entrez le montant en Dollars : \"))\n",
    "    taux_conversion = 0.85  # Exemple de taux \n",
    "    montant_euros = montant_dollars / taux_conversion\n",
    "    print(f\"{montant_dollars:.2f} Dollars équivalent à {montant_euros:.2f} Euros.\")\n",
    "else:\n",
    "    print(\"Choix de devise non valide. Veuillez entrer 'E' pour Euros ou '$' pour Dollars.\")\n"
   ]
  },
  {
   "cell_type": "markdown",
   "metadata": {},
   "source": [
    "**12. Check if the variable `name` is in the `studentsTuring` list. (Without making a loop)** \n",
    "* If the name is in the list, display \"You are at the turing's\".\n",
    "* Otherwise display: \"You are not part of the turing's\""
   ]
  },
  {
   "cell_type": "code",
   "execution_count": null,
   "metadata": {},
   "outputs": [],
   "source": [
    "studentsTuring = [\"Redouane\", \"Justine\", \"Ruben\", \"Edouard\"]\n",
    "name = \"Julie\""
   ]
  },
  {
   "cell_type": "code",
   "execution_count": null,
   "metadata": {},
   "outputs": [],
   "source": [
    "if name in studentsTuring:\n",
    "    print(\"You are at the Turing's.\")\n",
    "else:\n",
    "    print(\"You are not part of the Turing's.\")"
   ]
  },
  {
   "cell_type": "markdown",
   "metadata": {},
   "source": [
    "**13. Calculate the volume of a sphere using the formula *(4π/3) x R³*. The radius is 10.**  \n",
    "- Save the result in a \"volume\" variable.\n"
   ]
  },
  {
   "cell_type": "code",
   "execution_count": null,
   "metadata": {},
   "outputs": [],
   "source": [
    "import math\n",
    "\n",
    "rayon = 10\n",
    "\n",
    "volume = (4/3) * math.pi * (rayon ** 3)\n",
    "\n",
    "print(f\"Le volume de la sphère avec un rayon de {rayon} est : {volume:.2f}\")"
   ]
  },
  {
   "cell_type": "markdown",
   "metadata": {},
   "source": [
    "## [Ok, you can move here](../5.built-in-functions/built-in-functions.ipynb)"
   ]
  }
 ],
 "metadata": {
  "kernelspec": {
   "display_name": "Python 3",
   "language": "python",
   "name": "python3"
  },
  "language_info": {
   "codemirror_mode": {
    "name": "ipython"
   },
   "file_extension": ".py",
   "mimetype": "text/x-python",
   "name": "python",
   "nbconvert_exporter": "python"
  }
 },
 "nbformat": 4,
 "nbformat_minor": 2
}
