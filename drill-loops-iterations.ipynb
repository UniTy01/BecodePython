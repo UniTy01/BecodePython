{
 "cells": [
  {
   "cell_type": "markdown",
   "metadata": {},
   "source": [
    "# Drill loops and iterations"
   ]
  },
  {
   "cell_type": "markdown",
   "metadata": {},
   "source": [
    "### 1. Display all students in the `students` list in alphabetical order."
   ]
  },
  {
   "cell_type": "code",
   "execution_count": null,
   "metadata": {},
   "outputs": [],
   "source": [
    "students = [\n",
    "    \"Merouane\",\n",
    "    \"Baptiste\",\n",
    "    \"Caroline\",\n",
    "    \"Joe\",\n",
    "    \"Sophie\",\n",
    "    \"Nathan\",\n",
    "    \"Raphaël\",\n",
    "    \"Axel\",\n",
    "    \"Mathieu\",\n",
    "    \"Adrien\",\n",
    "]\n",
    "\n",
    "students_sorted = sorted(students)\n",
    "\n",
    "print(\"Liste d'étudiants triée par ordre alphabétique :\", students_sorted)"
   ]
  },
  {
   "cell_type": "markdown",
   "metadata": {},
   "source": [
    "### 2. Display only the names which begin with the letter \"M\"."
   ]
  },
  {
   "cell_type": "code",
   "execution_count": null,
   "metadata": {},
   "outputs": [],
   "source": [
    "for student in students:\n",
    "    if student.startswith(\"M\"):\n",
    "        print(student)"
   ]
  },
  {
   "cell_type": "markdown",
   "metadata": {},
   "source": [
    "### 3. Display integers from 0 to 15 not included, using a `for` loop and the `range()` instruction."
   ]
  },
  {
   "cell_type": "code",
   "execution_count": null,
   "metadata": {},
   "outputs": [],
   "source": [
    "for i in range(15):\n",
    "    print(i)"
   ]
  },
  {
   "cell_type": "markdown",
   "metadata": {},
   "source": [
    "### 4. Create a `for` loop that displays integers from 1 to 10 included, but use the `break` instruction to interrupt it at 5."
   ]
  },
  {
   "cell_type": "code",
   "execution_count": null,
   "metadata": {},
   "outputs": [],
   "source": [
    "for i in range(1, 11):\n",
    "    print(i)\n",
    "    if i == 5:\n",
    "        break"
   ]
  },
  {
   "cell_type": "markdown",
   "metadata": {},
   "source": [
    "### 4. Create a `for` loop that displays integers from 1 to 10 included, but use the `continue` to modify its execution at 5."
   ]
  },
  {
   "cell_type": "code",
   "execution_count": null,
   "metadata": {},
   "outputs": [],
   "source": [
    "for i in range(1, 11):\n",
    "    \n",
    "    if i == 5:\n",
    "        continue\n",
    "    print(i)"
   ]
  },
  {
   "cell_type": "markdown",
   "metadata": {},
   "source": [
    "### 6. Follow the instructions :"
   ]
  },
  {
   "cell_type": "markdown",
   "metadata": {},
   "source": [
    "- **Sort and display the list.**\n",
    "    - Output expected: `[10, 17, 25, 38, 72]`\n",
    "- **Add item 12 to the list and display the list.**\n",
    "    - Output expected: `[17, 38, 10, 25, 72, 12]`\n",
    "- **Reverse and display the list.**\n",
    "    - Output expected: `[12, 72, 25, 10, 38, 17]`\n",
    "- **Display the index of element 17.**\n",
    "    - Output expected: `5`\n",
    "- **Remove item 38 and display the list.**\n",
    "    - Output expected: `[12, 72, 25, 10, 17]`\n",
    "- **Display the sub-list of the 2nd to 3rd element.**\n",
    "    - Output expected: `[72, 25]`\n",
    "- **Display the sub-list from the beginning to the 2nd element.**\n",
    "    - Output expected: `[12, 72]`\n",
    "- **Display the sub-list of the 3rd element at the end of the list.**\n",
    "    - Output expected: `[25, 10, 17]`\n",
    "- **Display the complete sub-list of the list.**\n",
    "    - Output expected: `[12, 72, 25, 10, 17]`\n",
    "- **Display the last element using a negative indication.**\n",
    "    - Output expected: `[17]`"
   ]
  },
  {
   "cell_type": "code",
   "execution_count": null,
   "metadata": {},
   "outputs": [],
   "source": [
    "# Définir la liste initiale\n",
    "my_list = [17, 38, 10, 25, 72]\n",
    "\n",
    "# Trier et afficher la liste\n",
    "sorted_list = sorted(my_list)\n",
    "print(\"Liste triée :\", sorted_list)\n",
    "\n",
    "# Ajouter l'élément 12 à la liste et afficher la liste\n",
    "my_list.append(12)\n",
    "print(\"Liste après ajout de 12 :\", my_list)\n",
    "\n",
    "# Inverser et afficher la liste\n",
    "reversed_list = list(reversed(my_list))\n",
    "print(\"Liste inversée :\", reversed_list)\n",
    "\n",
    "# Afficher l'index de l'élément 17\n",
    "index_of_17 = my_list.index(17)\n",
    "print(\"Index de l'élément 17 :\", index_of_17)\n",
    "\n",
    "# Supprimer l'élément 38 et afficher la liste\n",
    "my_list.remove(38)\n",
    "print(\"Liste après suppression de 38 :\", my_list)\n",
    "\n",
    "# Afficher la sous-liste du 2e au 3e élément\n",
    "sublist_2_to_3 = my_list[1:3]\n",
    "print(\"Sous-liste du 2e au 3e élément :\", sublist_2_to_3)\n",
    "\n",
    "# Afficher la sous-liste du début au 2e élément\n",
    "sublist_to_2 = my_list[:2]\n",
    "print(\"Sous-liste du début au 2e élément :\", sublist_to_2)\n",
    "\n",
    "# Afficher la sous-liste du 3e élément jusqu'à la fin\n",
    "sublist_from_3 = my_list[2:]\n",
    "print(\"Sous-liste du 3e élément jusqu'à la fin :\", sublist_from_3)\n",
    "\n",
    "# Afficher la sous-liste complète de la liste\n",
    "complete_sublist = my_list[:]\n",
    "print(\"Sous-liste complète de la liste :\", complete_sublist)\n",
    "\n",
    "# Afficher le dernier élément en utilisant une indication négative\n",
    "last_element = my_list[-1]\n",
    "print(\"Dernier élément de la liste :\", [last_element])\n"
   ]
  },
  {
   "cell_type": "markdown",
   "metadata": {},
   "source": [
    "Note that some list methods do not return anything."
   ]
  },
  {
   "cell_type": "markdown",
   "metadata": {},
   "source": [
    "### 7. Write an algorithm that:\n",
    "1. Asks the user to enter a number.\n",
    "2. Make sure that your program displays all the numbers down to 0. For example, if the user enters the number 3, then your program will display something like this: `3,2,1,0`"
   ]
  },
  {
   "cell_type": "code",
   "execution_count": null,
   "metadata": {},
   "outputs": [],
   "source": [
    "if nombre >= 0:\n",
    "    \n",
    "    for i in range(nombre, -1, -1):\n",
    "        print(i, end=\"\")\n",
    "        if i > 0:\n",
    "            print(\",\", end=\"\")\n",
    "else:\n",
    "    print(\"Veuillez entrer un nombre entier positif.\")"
   ]
  },
  {
   "cell_type": "markdown",
   "metadata": {},
   "source": [
    "### 8.The price is right ! \n",
    "- Create a variable that will contain the number to be found. \n",
    "- Then create a function that will ask the user to find this price (asking for a number). \n",
    "- If the user enters a number that is too high, output the sentence: \"It's less.\". \n",
    "- If he enters a number that is too low, output the sentence: \"It's more.\". \n",
    "- If the user finds the right price, output the sentence: \"Well done, you won!\"."
   ]
  },
  {
   "cell_type": "code",
   "execution_count": null,
   "metadata": {},
   "outputs": [],
   "source": [
    "import random\n",
    "\n",
    "nombre_a_deviner = random.randint(1, 100) \n",
    "\n",
    "def deviner_prix():\n",
    "    while True:\n",
    "       \n",
    "        guess = int(input(\"Devinez le prix (entre 1 et 100) : \"))\n",
    "\n",
    "        \n",
    "        if guess < nombre_a_deviner:\n",
    "            print(\"C'est plus.\")\n",
    "        elif guess > nombre_a_deviner:\n",
    "            print(\"C'est moins.\")\n",
    "        else:\n",
    "            print(\"Bien joué, vous avez gagné !\")\n",
    "            break\n",
    "\n",
    "\n",
    "deviner_prix()"
   ]
  },
  {
   "cell_type": "markdown",
   "metadata": {},
   "source": [
    "### 9. Display all students with the sentence \"NAME is an alumni. \""
   ]
  },
  {
   "cell_type": "code",
   "execution_count": null,
   "metadata": {},
   "outputs": [],
   "source": [
    "all_students = [\n",
    "    [\"David\", \"Justine\", \"Valentin\", \"Axel\", \"Redouane\"],\n",
    "    [\"Julie\", \"Stéphane\", \"Mostapha\", \"Claudiu\", \"Son\"],\n",
    "]\n",
    "\n",
    "for group in all_students:\n",
    "    for student in group:\n",
    "        print(f\"{student} est un ancien élève.\")"
   ]
  },
  {
   "cell_type": "markdown",
   "metadata": {},
   "source": [
    "**10. Display all elements. If the element is part of the first list, display - `\"ELEMENT_HERE is a backend language?\"` - and if the element is part of the second list, display - `\"ELEMENT_HERE is a frontend language?\"`** "
   ]
  },
  {
   "cell_type": "code",
   "execution_count": null,
   "metadata": {},
   "outputs": [],
   "source": [
    "languages = [[\"PHP\", \"Java\", \"C#\"], [\"HTML\", \"CSS\", \"Javascript\"]]\n",
    "\n",
    "for group in languages:\n",
    "    for language in group:\n",
    "        if language in group[0]:\n",
    "            print(f\"{language} est un langage backend ?\")\n",
    "        elif language in group[1]:\n",
    "            print(f\"{language} est un langage frontend ?\")"
   ]
  },
  {
   "cell_type": "markdown",
   "metadata": {},
   "source": [
    "## [Next one](../8.everything-is-object/everything-is-object.ipynb)"
   ]
  }
 ],
 "metadata": {
  "kernelspec": {
   "display_name": "Python 3",
   "language": "python",
   "name": "python3"
  },
  "language_info": {
   "codemirror_mode": {
    "name": "ipython"
   },
   "file_extension": ".py",
   "mimetype": "text/x-python",
   "name": "python",
   "nbconvert_exporter": "python"
  }
 },
 "nbformat": 4,
 "nbformat_minor": 2
}
