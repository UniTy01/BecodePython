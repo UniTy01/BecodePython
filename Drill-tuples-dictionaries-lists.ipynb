{
 "cells": [
  {
   "cell_type": "markdown",
   "metadata": {},
   "source": [
    "# Drill : Lists, Tuples, Dictionaries"
   ]
  },
  {
   "cell_type": "markdown",
   "metadata": {},
   "source": [
    "### 1. Choose 5 words from the English language and create  dictionaries that associates each of these words with its French translation."
   ]
  },
  {
   "cell_type": "code",
   "execution_count": null,
   "metadata": {},
   "outputs": [],
   "source": [
    "word_dict = {\n",
    "    \"apple\": \"pomme\",\n",
    "    \"car\": \"voiture\",\n",
    "    \"book\": \"livre\",\n",
    "    \"computer\": \"ordinateur\",\n",
    "    \"sun\": \"soleil\"\n",
    "}\n",
    "\n",
    "print(\"Dictionnaire anglais-français :\")\n",
    "for english_word, french_translation in word_dict.items():\n",
    "    print(f\"{english_word} : {french_translation}\")"
   ]
  },
  {
   "cell_type": "markdown",
   "metadata": {},
   "source": [
    "### 2. Add an entry to the dictionary of the previous question (a new word and its definition)."
   ]
  },
  {
   "cell_type": "code",
   "execution_count": null,
   "metadata": {},
   "outputs": [],
   "source": [
    "word_dict = {\n",
    "    \"apple\": \"pomme\",\n",
    "    \"car\": \"voiture\",\n",
    "    \"book\": \"livre\",\n",
    "    \"computer\": \"ordinateur\",\n",
    "    \"sun\": \"soleil\"\n",
    "}\n",
    "\n",
    "word_dict[\"house\"] = \"maison\"\n",
    "\n",
    "print(\"Dictionnaire anglais-français mis à jour :\")\n",
    "for english_word, french_translation in word_dict.items():\n",
    "    print(f\"{english_word} : {french_translation}\")"
   ]
  },
  {
   "cell_type": "markdown",
   "metadata": {},
   "source": [
    "### 3. How would you cut the following string at each space and put it in a list?"
   ]
  },
  {
   "cell_type": "code",
   "execution_count": null,
   "metadata": {},
   "outputs": [],
   "source": [
    "sentence = \"Je suis le maître du monde\"\n",
    "\n",
    "liste_mots = sentence.split()\n",
    "\n",
    "print(\"Liste de mots :\", liste_mots)"
   ]
  },
  {
   "cell_type": "markdown",
   "metadata": {},
   "source": [
    "### 4. Transform this string \"The_universal_number_is_42\" by removing the underscores: \"The universal number is 42\""
   ]
  },
  {
   "cell_type": "code",
   "execution_count": null,
   "metadata": {},
   "outputs": [],
   "source": [
    "universal_number = \"The_universal_number_is_42\"\n",
    "\n",
    "transformed_string = universal_number.replace('_', ' ')\n",
    "\n",
    "print(\"Chaîne transformée :\", transformed_string)"
   ]
  },
  {
   "cell_type": "markdown",
   "metadata": {},
   "source": [
    "### 5. Display only values of this dictionary."
   ]
  },
  {
   "cell_type": "code",
   "execution_count": null,
   "metadata": {},
   "outputs": [],
   "source": [
    "heroes = {\"Superman\": \"Clark Kent\", \"Batman\": \"Bruce Wayne\", \"Spiderman\": \"Tony Parker\"}\n",
    "\n",
    "values_only = list(heroes.values())\n",
    "\n",
    "print(\"Valeurs du dictionnaire :\", values_only)"
   ]
  },
  {
   "cell_type": "markdown",
   "metadata": {},
   "source": [
    "### 6. Display only keys of this dictionary."
   ]
  },
  {
   "cell_type": "code",
   "execution_count": null,
   "metadata": {},
   "outputs": [],
   "source": [
    "heroes = {\"Superman\": \"Clark Kent\", \"Batman\": \"Bruce Wayne\", \"Spiderman\": \"Tony Parker\"}\n",
    "\n",
    "keys_only = list(heroes.keys())\n",
    "\n",
    "print(\"Clés du dictionnaire :\", keys_only)"
   ]
  },
  {
   "cell_type": "markdown",
   "metadata": {},
   "source": [
    "### 7. Replace the value of  \"Spiderman\" by \"Peter Parker\"."
   ]
  },
  {
   "cell_type": "code",
   "execution_count": null,
   "metadata": {},
   "outputs": [],
   "source": [
    "heroes = {\"Superman\": \"Clark Kent\", \"Batman\": \"Bruce Wayne\", \"Spiderman\": \"Tony Parker\"}heroes = {\"Superman\": \"Clark Kent\", \"Batman\": \"Bruce Wayne\", \"Spiderman\": \"Tony Parker\"}\n",
    "\n",
    "heroes[\"Spiderman\"] = \"Peter Parker\"\n",
    "\n",
    "print(\"Dictionnaire mis à jour :\", heroes)"
   ]
  },
  {
   "cell_type": "markdown",
   "metadata": {},
   "source": [
    "### 8. Create a dictionary to build the price base of the products corresponding to the following table.\n",
    "\n",
    "    Laser sword // 229.0\n",
    "    Mitendo DX // 127.30\n",
    "    Linux cushion // 74.50\n",
    "    Goldorak briefs // 29.90\n",
    "    Nextpresso station // 184.60"
   ]
  },
  {
   "cell_type": "code",
   "execution_count": null,
   "metadata": {},
   "outputs": [],
   "source": [
    "prices = {\n",
    "    \"Laser sword\": 229.0,\n",
    "    \"Mitendo DX\": 127.30,\n",
    "    \"Linux cushion\": 74.50,\n",
    "    \"Goldorak briefs\": 29.90,\n",
    "    \"Nextpresso station\": 184.60\n",
    "}\n",
    "\n",
    "print(\"Dictionnaire des prix :\", prices)"
   ]
  },
  {
   "cell_type": "markdown",
   "metadata": {},
   "source": [
    "### 9. Calculate the total price of the items of the dictionary."
   ]
  },
  {
   "cell_type": "code",
   "execution_count": null,
   "metadata": {},
   "outputs": [],
   "source": [
    "prices = {\n",
    "    \"Laser sword\": 229.0,\n",
    "    \"Mitendo DX\": 127.30,\n",
    "    \"Linux cushion\": 74.50,\n",
    "    \"Goldorak briefs\": 29.90,\n",
    "    \"Nextpresso station\": 184.60\n",
    "}\n",
    "\n",
    "total_price = sum(prices.values())\n",
    "\n",
    "print(\"Prix total des articles :\", total_price)"
   ]
  },
  {
   "cell_type": "markdown",
   "metadata": {},
   "source": [
    "### 10. Remove one of the articles from the dictionary."
   ]
  },
  {
   "cell_type": "code",
   "execution_count": null,
   "metadata": {},
   "outputs": [],
   "source": [
    "prices = {\n",
    "    \"Laser sword\": 229.0,\n",
    "    \"Mitendo DX\": 127.30,\n",
    "    \"Linux cushion\": 74.50,\n",
    "    \"Goldorak briefs\": 29.90,\n",
    "    \"Nextpresso station\": 184.60\n",
    "}\n",
    "\n",
    "removed_product = prices.pop(\"Linux cushion\")\n",
    "\n",
    "print(\"Dictionnaire après suppression :\", prices)\n",
    "\n",
    "print(\"Article supprimé :\", removed_product)"
   ]
  },
  {
   "cell_type": "markdown",
   "metadata": {},
   "source": [
    "## [Next one](../7.loops-and-iterations/loops-and-iterations.ipynb)"
   ]
  }
 ],
 "metadata": {
  "kernelspec": {
   "display_name": "Python 3",
   "language": "python",
   "name": "python3"
  },
  "language_info": {
   "codemirror_mode": {
    "name": "ipython"
   },
   "file_extension": ".py",
   "mimetype": "text/x-python",
   "name": "python",
   "nbconvert_exporter": "python"
  }
 },
 "nbformat": 4,
 "nbformat_minor": 2
}
